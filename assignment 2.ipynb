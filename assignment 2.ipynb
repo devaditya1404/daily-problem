{
 "cells": [
  {
   "cell_type": "code",
   "execution_count": 3,
   "id": "34401de7",
   "metadata": {},
   "outputs": [
    {
     "name": "stdout",
     "output_type": "stream",
     "text": [
      "Enter the value: 214\n",
      "The reversed number is: 412\n"
     ]
    }
   ],
   "source": [
    "#Reverse the user defined number.\n",
    "number = int(input(\"Enter the value: \"))\n",
    "reversed_number = 0\n",
    "\n",
    "while number > 0:\n",
    "    reversed_number = reversed_number * 10 + number % 10\n",
    "    number //= 10\n",
    "\n",
    "print(\"The reversed number is:\", reversed_number)\n"
   ]
  },
  {
   "cell_type": "code",
   "execution_count": 2,
   "id": "702bfa3d",
   "metadata": {},
   "outputs": [
    {
     "name": "stdout",
     "output_type": "stream",
     "text": [
      "313\n",
      "313 is a palindrome.\n"
     ]
    }
   ],
   "source": [
    "#Palindrome check the given no\n",
    "number = int(input(\"\"))\n",
    "\n",
    "original_number = number\n",
    "\n",
    "reversed_number = 0\n",
    "\n",
    "p = 0\n",
    "\n",
    "while number > 0:\n",
    "    last_number = number % 10\n",
    "    \n",
    "    reversed_number = reversed_number*10 + last_number\n",
    "    \n",
    "    number //=10\n",
    "print(f\"{original_number} is a palindrome.\" * (original_number == reversed_number)+\n",
    "      f\"{original_number} is not a palindrome.\" * (original_number != reversed_number))\n"
   ]
  },
  {
   "cell_type": "code",
   "execution_count": 6,
   "id": "25bd60d6",
   "metadata": {},
   "outputs": [
    {
     "name": "stdout",
     "output_type": "stream",
     "text": [
      "313\n",
      "its a palindrome\n"
     ]
    }
   ],
   "source": [
    "#given number a palindrome or not\n",
    "a = int(input())\n",
    "b = a\n",
    "rev = 0\n",
    "\n",
    "while a > 0:\n",
    "    rem = a % 10\n",
    "    rev = (rev*10)+rem\n",
    "    a=a/10\n",
    "if(rev==b):\n",
    "    print(\"it is not palindrome\")\n",
    "else:\n",
    "    print(\"its a palindrome\")"
   ]
  },
  {
   "cell_type": "code",
   "execution_count": null,
   "id": "a024b6b2",
   "metadata": {},
   "outputs": [],
   "source": []
  }
 ],
 "metadata": {
  "kernelspec": {
   "display_name": "Python 3 (ipykernel)",
   "language": "python",
   "name": "python3"
  },
  "language_info": {
   "codemirror_mode": {
    "name": "ipython",
    "version": 3
   },
   "file_extension": ".py",
   "mimetype": "text/x-python",
   "name": "python",
   "nbconvert_exporter": "python",
   "pygments_lexer": "ipython3",
   "version": "3.9.13"
  }
 },
 "nbformat": 4,
 "nbformat_minor": 5
}
